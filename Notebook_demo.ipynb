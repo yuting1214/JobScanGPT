{
 "cells": [
  {
   "cell_type": "code",
   "execution_count": 1,
   "metadata": {
    "ExecuteTime": {
     "end_time": "2023-08-02T19:56:20.938159Z",
     "start_time": "2023-08-02T19:56:20.452995Z"
    }
   },
   "outputs": [],
   "source": [
    "import os\n",
    "from Tool.llm_comp import llm_run\n",
    "import openai\n",
    "from dotenv import load_dotenv\n",
    "_ = load_dotenv('API_key/.env') \n",
    "openai.api_key  = os.getenv('OPENAI_API_KEY')"
   ]
  },
  {
   "cell_type": "markdown",
   "metadata": {},
   "source": [
    "# Example"
   ]
  },
  {
   "cell_type": "markdown",
   "metadata": {},
   "source": [
    "## Job description(Data science)"
   ]
  },
  {
   "cell_type": "code",
   "execution_count": 2,
   "metadata": {
    "ExecuteTime": {
     "end_time": "2023-08-02T19:56:27.099600Z",
     "start_time": "2023-08-02T19:56:27.086600Z"
    }
   },
   "outputs": [],
   "source": [
    "user_message = f\"\"\"\n",
    "About the job\n",
    "The Plymouth Rock Home team is an Insurtech start-up within a well-established insurance company. We tripled our topline revenue over the past 4 years by revolutionizing the way homeowners insurance is marketed, bought, and sold, enabling customers to obtain a home insurance quote in just seconds. Our @home product marries cutting edge data science and predictive modeling with a simplified sales process and a feature-rich package that our distributors want to sell and consumers want to buy to protect the things they value most.\n",
    "\n",
    "\n",
    "We are seeking a self-motivated and naturally curious individual to join our team. In this role you will create ground-breaking predictive models and design innovative variable features using advanced analytical techniques that drive a best-in-class agent and customer sales experience and support an innovative, profitable, and fast-growing homeowner’s insurance product. The role is not simply research: you will be part of a tactical team driving the profit and customer growth for the Home business.\n",
    "\n",
    "\n",
    "Here Is What You Will Do\n",
    "\n",
    "\n",
    " Own the end-to-end predictive modeling process, including defining a clear business problem, data acquisition and understanding, modeling, deployment, and monitoring. \n",
    " Proactively collaborate with stakeholders and partners to address emerging issues in a timely and constructive manner. Communicate findings to diverse audiences, including technical and non-technical. \n",
    " Collaborate with upper management to evaluate the impact of proposed solutions and incorporates these considerations into recommendations. \n",
    " Work with third party vendors and leading research institutions to explore new data sources and new methodologies, seeking continuous improvement. \n",
    "\n",
    "\n",
    "Here Is What You Will Bring To The Table\n",
    "\n",
    "\n",
    " Broad thinker with the ability to synthesize information from various sources and apply that information to concrete business problems. \n",
    " Hands-on modeling experience and a deep understanding of predictive modeling, data mining and other quantitative and research analytics (Multivariate Analysis, Bayesian Methods, Generalized Linear Models, Non-Linear Models, Decision Trees, Non- Parametric estimation, Machine learning techniques etc.). \n",
    " Strong programming ability in Python, SQL, and R, including experience building code and algorithms to tackle statistical problems. \n",
    " Solid understanding of database principles and experience working with large databases. \n",
    " Excellent written and oral communication skills. \n",
    " Masters or PhD from a quantitative area such as STEM (Science, Technology, Engineering and Mathematics) or Economics strongly preferred. \n",
    " Knowledge of home insurance is a plus. \n",
    "\n",
    "\n",
    " Why work for us \n",
    "\n",
    "\n",
    " 4 weeks accrued paid time off + 9 paid national holidays per year \n",
    " Tuition Reimbursement \n",
    " Low cost and excellent coverage health insurance options (medical, dental, vision) \n",
    " Onsite Fitness center opening Summer 2023 at our Boston Headquarters \n",
    " Robust health and wellness program and fitness reimbursements \n",
    " Auto and home insurance discounts \n",
    " Matching gift opportunities \n",
    " Annual 401(k) Employer Contribution (up to 7.5% of your base salary) \n",
    " Company sponsored social events \n",
    " Various Paid Family leave options including Paid Parental Leave \n",
    " $3,000 one-time bonus payment on health insurance waiver \n",
    "\n",
    "\n",
    "This is a ranged posting, the analyst level will be determined based on your background and experience.\n",
    "\n",
    "\n",
    "About The Company\n",
    "\n",
    "\n",
    "The Plymouth Rock Company and its affiliated group of companies write and manage over $1.8 billion in personal and commercial auto and homeowner’s insurance throughout the Northeast and mid-Atlantic, where we have built an unparalleled reputation for service. We continuously invest in technology, our employees thrive in our empowering environment, and our customers are among the most loyal in the industry. The Plymouth Rock group of companies employs more than 1,800 people and is headquartered in Boston, Massachusetts. Plymouth Rock Assurance Corporation holds an A.M. Best rating of “A-/Excellent”.\n",
    "\"\"\""
   ]
  },
  {
   "cell_type": "code",
   "execution_count": 3,
   "metadata": {
    "ExecuteTime": {
     "end_time": "2023-08-02T19:56:57.984638Z",
     "start_time": "2023-08-02T19:56:54.102841Z"
    }
   },
   "outputs": [
    {
     "name": "stdout",
     "output_type": "stream",
     "text": [
      "Data successfully written to data/text_input\\The_Plymouth_Rock_Company_1691011071.txt\n"
     ]
    },
    {
     "data": {
      "text/plain": [
       "({'Company': 'The Plymouth Rock Company',\n",
       "  'Industry': 'Insurance',\n",
       "  'Citizenship': 'Not mentioned',\n",
       "  'Visa_policy': 'Not mentioned',\n",
       "  'JobType': 'Full time',\n",
       "  'YoE_year': 'Not mentioned',\n",
       "  'YoE_level': 'Not mentioned',\n",
       "  'DS_skills': ['Predictive modeling',\n",
       "   'Data mining',\n",
       "   'Quantitative and research analytics'],\n",
       "  'Domain_Knowledge': 'Not mentioned',\n",
       "  'Min_Education': 'Master',\n",
       "  'cost': 0.002097},\n",
       " None)"
      ]
     },
     "execution_count": 3,
     "metadata": {},
     "output_type": "execute_result"
    }
   ],
   "source": [
    "llm_run('GPT-3.5', 'Data relevant', user_message)"
   ]
  },
  {
   "cell_type": "markdown",
   "metadata": {},
   "source": [
    "## Inappropriate Input"
   ]
  },
  {
   "cell_type": "code",
   "execution_count": 4,
   "metadata": {
    "ExecuteTime": {
     "end_time": "2023-08-02T19:57:25.224678Z",
     "start_time": "2023-08-02T19:57:24.958993Z"
    }
   },
   "outputs": [
    {
     "data": {
      "text/plain": [
       "({'cost': 0}, 'flagged')"
      ]
     },
     "execution_count": 4,
     "metadata": {},
     "output_type": "execute_result"
    }
   ],
   "source": [
    "user_message = 'sex and city'\n",
    "llm_run('GPT-3.5', 'Data relevant', user_message)"
   ]
  },
  {
   "cell_type": "markdown",
   "metadata": {},
   "source": [
    "## Not a job description"
   ]
  },
  {
   "cell_type": "code",
   "execution_count": 5,
   "metadata": {
    "ExecuteTime": {
     "end_time": "2023-08-02T19:57:32.098117Z",
     "start_time": "2023-08-02T19:57:32.087875Z"
    }
   },
   "outputs": [],
   "source": [
    "user_message = \"\"\"\n",
    "Pop music, an ever-evolving genre, has consistently served as a barometer for cultural trends and societal shifts. Embracing a blend of various musical styles, it transcends geographical boundaries and societal divisions, creating a platform for expression and connection.\n",
    "\n",
    "Originating from the term \"popular music,\" pop music is characterized by its mass appeal. From Elvis Presley's groundbreaking Rock 'n' Roll to The Beatles' timeless melodies, from Madonna's provocative pop anthems to BTS's global K-pop phenomena, pop music's dynamism mirrors our diverse global culture.\n",
    "\n",
    "Fundamentally, pop music is a powerhouse of emotion, speaking to our shared human experiences. Lyrics often explore universal themes—love, loss, joy, pain—encapsulating sentiments that resonate deeply with audiences worldwide. The familiar narratives, catchy melodies, and rhythmic hooks make it a soundtrack for everyday life.\n",
    "\n",
    "Notably, pop music's recent trends reflect our changing society. Themes of empowerment, diversity, and mental health have found prominent places in chart-topping tracks, signifying a shift towards a more conscious pop culture.\n",
    "\n",
    "Moreover, the digital era has brought a paradigm shift in pop music consumption. With platforms like Spotify and Apple Music, the reach of pop music has broadened beyond traditional radio airwaves, making it more accessible than ever. Likewise, social media platforms have birthed viral music trends, democratizing music production and consumption.\n",
    "\n",
    "In conclusion, pop music, in its many forms, serves as a catalyst for societal connection and reflection. Its diverse influences, universal themes, and evolving modes of consumption make it a dynamic force in our culture. Through its rhythmic heartbeat, pop music continues to unite us in our shared human experience, underscoring its timeless appeal.\n",
    "\"\"\""
   ]
  },
  {
   "cell_type": "code",
   "execution_count": 6,
   "metadata": {
    "ExecuteTime": {
     "end_time": "2023-08-02T19:57:45.156665Z",
     "start_time": "2023-08-02T19:57:44.217548Z"
    }
   },
   "outputs": [
    {
     "data": {
      "text/plain": [
       "({'cost': 0.0013465}, 'not_job')"
      ]
     },
     "execution_count": 6,
     "metadata": {},
     "output_type": "execute_result"
    }
   ],
   "source": [
    "llm_run('GPT-3.5', 'Data relevant', user_message)"
   ]
  }
 ],
 "metadata": {
  "kernelspec": {
   "display_name": "Python 3 (ipykernel)",
   "language": "python",
   "name": "python3"
  },
  "language_info": {
   "codemirror_mode": {
    "name": "ipython",
    "version": 3
   },
   "file_extension": ".py",
   "mimetype": "text/x-python",
   "name": "python",
   "nbconvert_exporter": "python",
   "pygments_lexer": "ipython3",
   "version": "3.8.9"
  },
  "toc": {
   "base_numbering": 1,
   "nav_menu": {},
   "number_sections": true,
   "sideBar": true,
   "skip_h1_title": false,
   "title_cell": "Table of Contents",
   "title_sidebar": "Contents",
   "toc_cell": false,
   "toc_position": {},
   "toc_section_display": true,
   "toc_window_display": true
  }
 },
 "nbformat": 4,
 "nbformat_minor": 2
}
